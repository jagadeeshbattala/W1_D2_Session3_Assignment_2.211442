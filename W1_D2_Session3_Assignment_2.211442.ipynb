{
 "cells": [
  {
   "cell_type": "markdown",
   "metadata": {},
   "source": [
    "# Weel1_Day2_Session3_Assignment_2.211442"
   ]
  },
  {
   "cell_type": "markdown",
   "metadata": {},
   "source": [
    "### Problem 1.1"
   ]
  },
  {
   "cell_type": "code",
   "execution_count": 28,
   "metadata": {},
   "outputs": [
    {
     "data": {
      "text/plain": [
       "66"
      ]
     },
     "execution_count": 28,
     "metadata": {},
     "output_type": "execute_result"
    }
   ],
   "source": [
    "#myreduce function which takes a functiona and list. It applies the passed function on all the elements.\n",
    "def myreduce(func, lst):\n",
    "    if(len(lst) == 0):\n",
    "        return None\n",
    "    result = lst[0]\n",
    "    for index in range(1, len(lst)):\n",
    "        result = func(result, lst[index])\n",
    "    return result\n",
    "\n",
    "add_fun = lambda a, b : a+b\n",
    "lst = [1, 2, 3, 4, 5, 6, 7, 8, 9, 10, 11]\n",
    "myreduce(add_fun, lst)"
   ]
  },
  {
   "cell_type": "markdown",
   "metadata": {},
   "source": [
    "### Problem 1.2 "
   ]
  },
  {
   "cell_type": "code",
   "execution_count": 2,
   "metadata": {},
   "outputs": [
    {
     "data": {
      "text/plain": [
       "[5, 6, 7, 8, 9, 10, 11]"
      ]
     },
     "execution_count": 2,
     "metadata": {},
     "output_type": "execute_result"
    }
   ],
   "source": [
    "#Below is the myfilter implementation which does the same as filter function in Python.\n",
    "def myfilter(func, lst):\n",
    "    if(len(lst) == 0):\n",
    "        return None\n",
    "    res_lst = []\n",
    "    for index in range(0, len(lst)):\n",
    "        val = lst[index]\n",
    "        if (func(val) == True):\n",
    "            res_lst.append(val)\n",
    "    return res_lst\n",
    "\n",
    "filt_func = lambda val : val >= 5\n",
    "lst = [1, 2, 3, 4, 5, 6, 7, 8, 9, 10, 11]\n",
    "myfilter(filt_func, lst)"
   ]
  },
  {
   "cell_type": "markdown",
   "metadata": {},
   "source": [
    "### Problem 2"
   ]
  },
  {
   "cell_type": "code",
   "execution_count": 3,
   "metadata": {},
   "outputs": [
    {
     "name": "stdout",
     "output_type": "stream",
     "text": [
      "['A', 'C', 'A', 'D', 'G', 'I', 'L', 'D']\n"
     ]
    }
   ],
   "source": [
    "name = 'ACADGILD'\n",
    "char_list = list(name.strip())\n",
    "print(char_list)"
   ]
  },
  {
   "cell_type": "code",
   "execution_count": 4,
   "metadata": {},
   "outputs": [
    {
     "name": "stdout",
     "output_type": "stream",
     "text": [
      "['x', 'xx', 'xxx', 'xxxx', 'y', 'yy', 'yyy', 'yyyy', 'z', 'zz', 'zzz', 'zzzz']\n"
     ]
    }
   ],
   "source": [
    "char_list = ['x', 'y', 'z']\n",
    "comb_list = [ char * no for char in char_list for no in range(1, 5)]\n",
    "print(comb_list)"
   ]
  },
  {
   "cell_type": "code",
   "execution_count": 5,
   "metadata": {},
   "outputs": [
    {
     "name": "stdout",
     "output_type": "stream",
     "text": [
      "['x', 'y', 'z', 'xx', 'yy', 'zz', 'xxx', 'yyy', 'zzz', 'xxxx', 'yyyy', 'zzzz']\n"
     ]
    }
   ],
   "source": [
    "comb_list2 = [ no * char for no in range(1, 5) for char in char_list ]\n",
    "print(comb_list2)"
   ]
  },
  {
   "cell_type": "code",
   "execution_count": 7,
   "metadata": {},
   "outputs": [
    {
     "name": "stdout",
     "output_type": "stream",
     "text": [
      "[[2], [3], [4], [3], [4], [5], [4], [5], [6]]\n"
     ]
    }
   ],
   "source": [
    "no_list1 = [2, 3, 4]\n",
    "two_d_list_1 = [ [no + j] for no in no_list1 for j in range(3)]\n",
    "print(two_d_list_1)"
   ]
  },
  {
   "cell_type": "code",
   "execution_count": 8,
   "metadata": {},
   "outputs": [
    {
     "name": "stdout",
     "output_type": "stream",
     "text": [
      "[[2, 3, 4, 5], [3, 4, 5, 6], [4, 5, 6, 7], [5, 6, 7, 8]]\n"
     ]
    }
   ],
   "source": [
    "no_list2 = [2, 3, 4, 5]\n",
    "two_d_list_2 = [ [no + j for no in no_list2] for j in range(4)]\n",
    "print(two_d_list_2)"
   ]
  },
  {
   "cell_type": "code",
   "execution_count": 27,
   "metadata": {},
   "outputs": [
    {
     "data": {
      "text/plain": [
       "[(1, 1), (1, 2), (1, 3), (2, 1), (2, 2), (2, 3), (3, 1), (3, 2), (3, 3)]"
      ]
     },
     "execution_count": 27,
     "metadata": {},
     "output_type": "execute_result"
    }
   ],
   "source": [
    "no_list3 = [1, 2, 3]\n",
    "tuple_list = [ (i, j) for i in no_list3 for j in no_list3]\n",
    "tuple_list"
   ]
  },
  {
   "cell_type": "markdown",
   "metadata": {},
   "source": [
    "### Problem 3"
   ]
  },
  {
   "cell_type": "code",
   "execution_count": 26,
   "metadata": {},
   "outputs": [
    {
     "data": {
      "text/plain": [
       "'Hyderabad'"
      ]
     },
     "execution_count": 26,
     "metadata": {},
     "output_type": "execute_result"
    }
   ],
   "source": [
    "def longestWord(words_list):\n",
    "    if(len(words_list) == 0):\n",
    "        return None\n",
    "    long_word_len = len(words_list[0])\n",
    "    long_wod = words_list[0]\n",
    "    for index in range(1, len(words_list)):\n",
    "        if(long_word_len < len(words_list[index])):\n",
    "            long_word_len = len(words_list[index])\n",
    "            long_wod = words_list[index]\n",
    "    return long_wod\n",
    "\n",
    "words_list = ['Vizag','Hyderabad','Pune','Chennai','Delhi']\n",
    "longestWord(words_list)"
   ]
  },
  {
   "cell_type": "code",
   "execution_count": null,
   "metadata": {},
   "outputs": [],
   "source": []
  }
 ],
 "metadata": {
  "kernelspec": {
   "display_name": "Python 3",
   "language": "python",
   "name": "python3"
  },
  "language_info": {
   "codemirror_mode": {
    "name": "ipython",
    "version": 3
   },
   "file_extension": ".py",
   "mimetype": "text/x-python",
   "name": "python",
   "nbconvert_exporter": "python",
   "pygments_lexer": "ipython3",
   "version": "3.7.0"
  }
 },
 "nbformat": 4,
 "nbformat_minor": 2
}
